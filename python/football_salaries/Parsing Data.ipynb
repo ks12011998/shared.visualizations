{
 "cells": [
  {
   "cell_type": "markdown",
   "metadata": {},
   "source": [
    "- dataset from [kaggle](https://www.kaggle.com/trolukovich/football-players-salaries/discussion/95193)\n",
    "- formatted by **Alexander Antonov**\n",
    "- [original source](https://overthecap.com/position/quarterback/)"
   ]
  },
  {
   "cell_type": "code",
   "execution_count": 249,
   "metadata": {},
   "outputs": [],
   "source": [
    "import pandas as pd\n",
    "import json\n",
    "import warnings\n",
    "warnings.filterwarnings('ignore')"
   ]
  },
  {
   "cell_type": "code",
   "execution_count": 250,
   "metadata": {},
   "outputs": [],
   "source": [
    "df = pd.read_csv(\"../../data/football/football_salaries.csv\")"
   ]
  },
  {
   "cell_type": "code",
   "execution_count": 251,
   "metadata": {},
   "outputs": [],
   "source": [
    "# one player can appear several times in the dataset, with different position\n",
    "# we'll stick to the first position occurence\n",
    "df = df.groupby([\"player\",\"team\",\"avg_year\"]).first().reset_index()"
   ]
  },
  {
   "cell_type": "code",
   "execution_count": 252,
   "metadata": {},
   "outputs": [],
   "source": [
    "# keeping only top 300 players in avg_year salary\n",
    "df = df.sort_values(\"avg_year\",ascending=False).head(300).reset_index(drop=True)\n",
    "\n",
    "#### create nodes dataframe\n",
    "\n",
    "# df for players\n",
    "df_players = df[[\"player\",\"avg_year\",\"position\"]]\n",
    "df_players[\"group\"] = \"player\"\n",
    "df_players = df_players.rename(columns={\"player\": \"id\",\"avg_year\":\"value\"})\n",
    "\n",
    "# df for teams\n",
    "df_team = df.groupby(\"team\").sum()[\"avg_year\"].reset_index()\n",
    "df_team[\"group\"] = \"team\"\n",
    "df_team = df_team.rename(columns={\"team\":\"id\", \"avg_year\":\"value\"})"
   ]
  },
  {
   "cell_type": "code",
   "execution_count": 253,
   "metadata": {},
   "outputs": [],
   "source": [
    "# concatenation\n",
    "df_nodes = pd.concat([df_players, df_team]).reset_index(drop=True).fillna(\"-\")\n",
    "\n",
    "#### create links dataframe\n",
    "df_links = df[[\"team\",\"player\"]].rename(columns={\"team\":\"source\",\"player\":\"target\"})\n",
    "df_links[\"value\"] = 2"
   ]
  },
  {
   "cell_type": "code",
   "execution_count": 254,
   "metadata": {},
   "outputs": [],
   "source": [
    "nodes = df_nodes.to_dict('records')\n",
    "links = df_links.to_dict('records')"
   ]
  },
  {
   "cell_type": "code",
   "execution_count": 257,
   "metadata": {},
   "outputs": [],
   "source": [
    "my_dict = {\"nodes\":[],\"links\":[]}\n",
    "my_dict[\"nodes\"] = nodes\n",
    "my_dict[\"links\"] = links"
   ]
  },
  {
   "cell_type": "code",
   "execution_count": 244,
   "metadata": {},
   "outputs": [],
   "source": [
    "with open('../../data/football/football.json', 'w') as json_file:\n",
    "    json.dump(my_dict, json_file)"
   ]
  }
 ],
 "metadata": {
  "kernelspec": {
   "display_name": "Python 3",
   "language": "python",
   "name": "python3"
  },
  "language_info": {
   "codemirror_mode": {
    "name": "ipython",
    "version": 3
   },
   "file_extension": ".py",
   "mimetype": "text/x-python",
   "name": "python",
   "nbconvert_exporter": "python",
   "pygments_lexer": "ipython3",
   "version": "3.6.10"
  }
 },
 "nbformat": 4,
 "nbformat_minor": 2
}
