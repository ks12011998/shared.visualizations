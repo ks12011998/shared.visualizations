{
 "cells": [
  {
   "cell_type": "code",
   "execution_count": null,
   "metadata": {},
   "outputs": [],
   "source": [
    "from __future__ import division\n",
    "\n",
    "import pandas as pd\n",
    "import warnings\n",
    "import colorsys\n",
    "\n",
    "warnings.filterwarnings(\"ignore\")"
   ]
  },
  {
   "cell_type": "code",
   "execution_count": null,
   "metadata": {},
   "outputs": [],
   "source": [
    "df = pd.read_json(\"../../data/parade/blocks-colors.json\")"
   ]
  },
  {
   "cell_type": "markdown",
   "metadata": {},
   "source": [
    "# Colors only\n",
    "\n",
    "Only one occurence counted per color in the viz.  \n",
    "\n",
    "- keep the `colors` column only\n",
    "- flatten the object to one occurence per color\n",
    "- group by colors / sum of occurences"
   ]
  },
  {
   "cell_type": "code",
   "execution_count": null,
   "metadata": {},
   "outputs": [],
   "source": [
    "df_colors = df[[\"colors\"]]\n",
    "df_colors.colors = df_colors.colors.astype(str)\n",
    "df_colors.colors = df_colors.colors.str.replace(\"{\",\"\").str.replace(\"}\",\"\")\n",
    "df_colors = df_colors.apply(lambda x: x.str.split(',').explode()).reset_index(drop=True)"
   ]
  },
  {
   "cell_type": "code",
   "execution_count": null,
   "metadata": {},
   "outputs": [],
   "source": [
    "df_colors.colors = df_colors.colors.str.replace(\"\\'\",\"\")\n",
    "df_colors[[\"colors_def\",\"B\"]] = df_colors[\"colors\"].str.split(\":\",expand=True)\n",
    "df_colors = df_colors[[\"colors_def\",\"colors\"]]\n",
    "df_colors = df_colors.groupby(\"colors_def\")[\"colors\"].count().reset_index()\n",
    "df_colors.colors_def = df_colors[\"colors_def\"].str.replace(\" \",\"\")"
   ]
  },
  {
   "cell_type": "code",
   "execution_count": null,
   "metadata": {},
   "outputs": [],
   "source": [
    "def convert_rgb_to_hls(r, g, b):\n",
    "    h, l, s = colorsys.rgb_to_hls(r/255, g/255, b/255)\n",
    "    return \"(\" + str(int(round(h * 360))) + \", \" + str(int(round(l * 100))) + \", \" + str(int(round(s * 100))) + \")\""
   ]
  },
  {
   "cell_type": "code",
   "execution_count": null,
   "metadata": {},
   "outputs": [],
   "source": [
    "def converting_HEX_RGB(arg):\n",
    "    h = arg.lstrip('#')\n",
    "    return tuple(int(h[i:i+2], 16) for i in (0, 2, 4))"
   ]
  },
  {
   "cell_type": "code",
   "execution_count": null,
   "metadata": {},
   "outputs": [],
   "source": [
    "def converting_RGB_HLS(arg):\n",
    "    R = arg[0]\n",
    "    G = arg[1]\n",
    "    B = arg[2]\n",
    "    return convert_rgb_to_hls(R, G, B)"
   ]
  },
  {
   "cell_type": "code",
   "execution_count": null,
   "metadata": {},
   "outputs": [],
   "source": [
    "df_colors[\"RGB\"] = df_colors[\"colors_def\"].apply(converting_HEX_RGB)\n",
    "df_colors[\"HLS\"] = df_colors[\"RGB\"].apply(converting_RGB_HLS)\n",
    "df_colors_min = df_colors[[\"HLS\",\"colors\"]]"
   ]
  },
  {
   "cell_type": "code",
   "execution_count": null,
   "metadata": {},
   "outputs": [],
   "source": [
    "df_colors_min[\"HLS\"] = df_colors_min[\"HLS\"].str.replace(\"(\",\"\").str.replace(\")\",\"\")"
   ]
  },
  {
   "cell_type": "code",
   "execution_count": null,
   "metadata": {},
   "outputs": [],
   "source": [
    "df_colors_min[[\"H\",\"L\",\"S\"]] = df_colors_min[\"HLS\"].str.split(\",\", expand=True)\n",
    "\n",
    "df_colors_min[\"H\"] = df_colors_min[\"H\"].astype(int)\n",
    "df_colors_min[\"S\"] = df_colors_min[\"S\"].astype(int)\n",
    "df_colors_min[\"L\"] = df_colors_min[\"L\"].astype(int)"
   ]
  },
  {
   "cell_type": "code",
   "execution_count": null,
   "metadata": {},
   "outputs": [],
   "source": [
    "del df_colors_min[\"HLS\"]"
   ]
  },
  {
   "cell_type": "markdown",
   "metadata": {},
   "source": [
    "## Calling function"
   ]
  },
  {
   "cell_type": "code",
   "execution_count": null,
   "metadata": {},
   "outputs": [],
   "source": [
    "def sample(size):\n",
    "    df = df_colors_min.sort_values(\"colors\",ascending=False).head(size)\n",
    "    \n",
    "    # adding rank on Hue / Saturation / Lightness\n",
    "    df.sort_values(\"H\",inplace=True)\n",
    "    df.reset_index(inplace=True, drop=True)\n",
    "    df[\"hue_rank\"] = df.index\n",
    "\n",
    "    df.sort_values(\"S\",inplace=True)\n",
    "    df.reset_index(inplace=True, drop=True)\n",
    "    df[\"saturation_rank\"] = df.index\n",
    "\n",
    "    df.sort_values(\"L\",inplace=True)\n",
    "    df.reset_index(inplace=True, drop=True)\n",
    "    df[\"lightness_rank\"] = df.index\n",
    "\n",
    "    df.sort_values(\"colors\",ascending=False,inplace=True)\n",
    "    df = df.reset_index(drop=True)\n",
    "\n",
    "    df.to_csv(\"../../data/d3_parade/colors-rank-{}.csv\".format(size))\n",
    "\n",
    "    return df"
   ]
  },
  {
   "cell_type": "code",
   "execution_count": null,
   "metadata": {},
   "outputs": [],
   "source": [
    "df_1000 = sample(1000)"
   ]
  }
 ],
 "metadata": {
  "kernelspec": {
   "display_name": "Python 3",
   "language": "python",
   "name": "python3"
  },
  "language_info": {
   "codemirror_mode": {
    "name": "ipython",
    "version": 3
   },
   "file_extension": ".py",
   "mimetype": "text/x-python",
   "name": "python",
   "nbconvert_exporter": "python",
   "pygments_lexer": "ipython3",
   "version": "3.6.10"
  }
 },
 "nbformat": 4,
 "nbformat_minor": 2
}
