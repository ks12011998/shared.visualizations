{
 "cells": [
  {
   "cell_type": "markdown",
   "metadata": {},
   "source": [
    "# 0. Introduction\n",
    "\n",
    "## What we would like to get\n",
    "\n",
    "1. A frame extracted every 5 seconds\n",
    "2. The dominant color in the frame\n",
    "3. The color converted in HSL to make it possible to sort by Hue/Satruation/Lightness"
   ]
  },
  {
   "cell_type": "markdown",
   "metadata": {},
   "source": [
    "## Modules"
   ]
  },
  {
   "cell_type": "code",
   "execution_count": 1,
   "metadata": {},
   "outputs": [],
   "source": [
    "from collections import namedtuple\n",
    "import colorsys\n",
    "import json\n",
    "from math import sqrt\n",
    "from os import listdir\n",
    "from os.path import isfile, join\n",
    "import random\n",
    "from PIL import Image\n",
    "from IPython.core.display import display, HTML\n",
    "from natsort import natsorted"
   ]
  },
  {
   "cell_type": "markdown",
   "metadata": {},
   "source": [
    "# 1. Frame extraction\n",
    "\n",
    "This step is fairly simple with the `ffmpeg` software. It might take some time to extract all pictures, here is the command I've used:  \n",
    "\n",
    "```ffmpeg -i Blade\\ Runner\\ 2049.mp4 -vf fps=1/5 img/output%06d.png```  \n",
    "\n",
    "Make sur to keep the output file names with a notion of order (to keep the movie order sorting, with `%06d`)"
   ]
  },
  {
   "cell_type": "markdown",
   "metadata": {},
   "source": [
    "# 2. Dominant color extraction\n",
    "\n",
    "Here, the algorithm used is a k-means clustering, with only one cluster.\n",
    "A really nice article helped me through the process, credit to [Charles Leifer](http://charlesleifer.com/blog/using-python-and-k-means-to-find-the-dominant-colors-in-images/) for his help on this!"
   ]
  },
  {
   "cell_type": "code",
   "execution_count": 2,
   "metadata": {},
   "outputs": [],
   "source": [
    "Point = namedtuple('Point', ('coords', 'n', 'ct'))\n",
    "Cluster = namedtuple('Cluster', ('points', 'center', 'n'))"
   ]
  },
  {
   "cell_type": "code",
   "execution_count": 3,
   "metadata": {},
   "outputs": [],
   "source": [
    "# two functions to do math computations used in later functions\n",
    "\n",
    "def calculate_center(points, n):\n",
    "    vals = [0.0 for i in range(n)]\n",
    "    plen = 0\n",
    "    for p in points:\n",
    "        plen += p.ct\n",
    "        for i in range(n):\n",
    "            vals[i] += (p.coords[i] * p.ct)\n",
    "    return Point([(v / plen) for v in vals], n, 1)\n",
    "\n",
    "def euclidean(p1, p2):\n",
    "    return sqrt(sum([\n",
    "        (p1.coords[i] - p2.coords[i]) ** 2 for i in range(p1.n)\n",
    "    ]))"
   ]
  },
  {
   "cell_type": "code",
   "execution_count": 4,
   "metadata": {},
   "outputs": [],
   "source": [
    "# retrieve all points of the picture as a rgb array\n",
    "\n",
    "def get_points(img):\n",
    "    points = []\n",
    "    w, h = img.size\n",
    "    for count, color in img.getcolors(w * h):\n",
    "        points.append(Point(color, 3, count))\n",
    "    return points"
   ]
  },
  {
   "cell_type": "code",
   "execution_count": 5,
   "metadata": {},
   "outputs": [],
   "source": [
    "def kmeans(points, k, min_diff):\n",
    "    clusters = [Cluster([p], p, p.n) for p in random.sample(points, k)]\n",
    "\n",
    "    while 1:\n",
    "        plists = [[] for i in range(k)]\n",
    "\n",
    "        for p in points:\n",
    "            smallest_distance = float('Inf')\n",
    "            for i in range(k):\n",
    "                distance = euclidean(p, clusters[i].center)\n",
    "                if distance < smallest_distance:\n",
    "                    smallest_distance = distance\n",
    "                    idx = i\n",
    "            plists[idx].append(p)\n",
    "\n",
    "        diff = 0\n",
    "        for i in range(k):\n",
    "            old = clusters[i]\n",
    "            center = calculate_center(plists[i], old.n)\n",
    "            new = Cluster(plists[i], center, old.n)\n",
    "            clusters[i] = new\n",
    "            diff = max(diff, euclidean(old.center, new.center))\n",
    "\n",
    "        if diff < min_diff:\n",
    "            break\n",
    "\n",
    "    return clusters"
   ]
  },
  {
   "cell_type": "code",
   "execution_count": 6,
   "metadata": {},
   "outputs": [],
   "source": [
    "rtoh = lambda rgb: '#%s' % ''.join(('%02x' % p for p in rgb))"
   ]
  },
  {
   "cell_type": "code",
   "execution_count": 7,
   "metadata": {},
   "outputs": [],
   "source": [
    "def colorz(filename, n=1):\n",
    "    img = Image.open(filename)\n",
    "    img.thumbnail((200, 200))\n",
    "    w, h = img.size\n",
    "    # calling the get_points function\n",
    "    points = get_points(img)\n",
    "    # calling the k_means function\n",
    "    clusters = kmeans(points, n, 1)\n",
    "    \n",
    "    rgbs = [map(int, c.center.coords) for c in clusters]\n",
    "    return map(rtoh, rgbs)"
   ]
  },
  {
   "cell_type": "code",
   "execution_count": 10,
   "metadata": {},
   "outputs": [],
   "source": [
    "mypath = \"/path/to/img/folder/\"\n",
    "\n",
    "files = [f for f in listdir(mypath) if isfile(join(mypath, f))]\n",
    "\n",
    "# sorting string by numbers\n",
    "files = natsorted(files)"
   ]
  },
  {
   "cell_type": "code",
   "execution_count": 16,
   "metadata": {},
   "outputs": [],
   "source": [
    "def recursive(path):\n",
    "    color = \"\"\n",
    "    arrays = []\n",
    "    for idx,file in enumerate(files):\n",
    "        # print(path+file)\n",
    "        i = (idx *10)\n",
    "        array = list(colorz(path + file))\n",
    "        arrays.append(array)\n",
    "        color = color + \\\n",
    "                    \"\"\"\n",
    "                  <rect x=\"{1}\" y=\"0\" width=\"10\" height=\"10\" style=\"fill: {0};\" />\n",
    "                  \n",
    "                    \"\"\".format(array[0],i)\n",
    "        \n",
    "    opening = \"\"\" <svg width=\"{0}\" height=\"100\"> \"\"\".format((len(files)*10)+100)\n",
    "    closing = \"\"\" </svg> \"\"\"\n",
    "        \n",
    "    return arrays"
   ]
  },
  {
   "cell_type": "code",
   "execution_count": 17,
   "metadata": {},
   "outputs": [],
   "source": [
    "# arr is a list of 3 hex codes\n",
    "# arr, html = recursive(mypath)\n",
    "\n",
    "arr = recursive(mypath)"
   ]
  },
  {
   "cell_type": "markdown",
   "metadata": {},
   "source": [
    "# 3. Reformating color vectors\n",
    "\n",
    "The `HEX` and `RGB` formats are not convenient as they don't keep a real notion of order (it might be disputable for `RGB` which does potion your color depending on their \"rate\" of red, green and blue.  \n",
    "\n",
    "Still, the `HSL` format does keep a notion of order, Hue (positionning your color on a color wheel), Saturation and Lightness. Here, we convert our arrays in a new array of 3 values."
   ]
  },
  {
   "cell_type": "code",
   "execution_count": null,
   "metadata": {},
   "outputs": [],
   "source": [
    "# converting hex to rgb\n",
    "for i in range(len(arr)):\n",
    "    for j in range(0,1):\n",
    "        arr[i][j] = tuple(int(arr[i][j].lstrip('#')[k:k+2], 16) for k in (0, 2, 4))"
   ]
  },
  {
   "cell_type": "code",
   "execution_count": 20,
   "metadata": {},
   "outputs": [],
   "source": [
    "# converting rgb to hsb/hsl\n",
    "for i in range(len(arr)):\n",
    "    for j in range(0,1):\n",
    "        arr[i][j] = list(colorsys.rgb_to_hsv(arr[i][j][0]/255.,arr[i][j][1]/255.,arr[i][j][2]/255.))"
   ]
  },
  {
   "cell_type": "code",
   "execution_count": 21,
   "metadata": {},
   "outputs": [],
   "source": [
    "# converting to the proper number format: [0,360] - [0,100] - [0,100]\n",
    "for i in range(len(arr)):\n",
    "    arr[i][0][0] = int(arr[i][0][0] * 360)\n",
    "    arr[i][0][1] = int(arr[i][0][1] * 100)\n",
    "    arr[i][0][2] = int(arr[i][0][2] * 100)"
   ]
  },
  {
   "cell_type": "code",
   "execution_count": 22,
   "metadata": {},
   "outputs": [],
   "source": [
    "dict_colors = { i : arr[i] for i in range(0, len(arr) ) }"
   ]
  },
  {
   "cell_type": "code",
   "execution_count": 23,
   "metadata": {},
   "outputs": [],
   "source": [
    "# to visualize it interactively, we will use the d3.js library. I'm generating a json file for each movie\n",
    "# with arrays of 3 elements per frame\n",
    "with open('/path/to/my/json/file/myfile.json', 'w') as f:\n",
    "    json.dump(arr, f)"
   ]
  },
  {
   "cell_type": "markdown",
   "metadata": {},
   "source": [
    "# Code for the visualization\n",
    "\n",
    "The code for the visualization is available on [my Observable profile](https://observablehq.com/@git1984/bar-code-blade-runner-movies) (interactive notebook for d3.js visualizations)"
   ]
  }
 ],
 "metadata": {
  "kernelspec": {
   "display_name": "Python 3",
   "language": "python",
   "name": "python3"
  },
  "language_info": {
   "codemirror_mode": {
    "name": "ipython",
    "version": 3
   },
   "file_extension": ".py",
   "mimetype": "text/x-python",
   "name": "python",
   "nbconvert_exporter": "python",
   "pygments_lexer": "ipython3",
   "version": "3.6.10"
  }
 },
 "nbformat": 4,
 "nbformat_minor": 2
}
