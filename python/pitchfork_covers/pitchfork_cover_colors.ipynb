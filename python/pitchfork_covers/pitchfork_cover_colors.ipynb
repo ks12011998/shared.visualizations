{
 "cells": [
  {
   "cell_type": "markdown",
   "metadata": {},
   "source": [
    "# 0. Introduction\n",
    "\n",
    "## Data Source\n",
    "\n",
    "- [link to pitchfork](https://pitchfork.com/reviews/albums/?page=20) sample: August 8th > October 21st  \n",
    "\n",
    "## What we would like to get \n",
    "- artist name\n",
    "- album name\n",
    "- genre\n",
    "- link to review\n",
    "- review score\n",
    "- link to cover picture\n",
    "- cover picture\n",
    "- dominant color of the picture, HSL format"
   ]
  },
  {
   "cell_type": "markdown",
   "metadata": {},
   "source": [
    "## Steps\n",
    "\n",
    "**1. Fetching the data**  \n",
    "1.1. get the html page  \n",
    "1.2. use beautiful soup to extract data from Pitchfork  \n",
    "1.3. preparing the data into a dataframe     \n",
    "1.4. use beautiful soup to retrieve album covers & wget  \n",
    "\n",
    "**2. Extracting the dominant color from album cover**  \n",
    "2.1. extract album covers dominant color (`k-means`)  \n",
    "2.2. format it in HSL into the current dataframe "
   ]
  },
  {
   "cell_type": "markdown",
   "metadata": {},
   "source": [
    "## Modules"
   ]
  },
  {
   "cell_type": "code",
   "execution_count": null,
   "metadata": {},
   "outputs": [],
   "source": [
    "# modules for part 1\n",
    "from bs4 import BeautifulSoup\n",
    "import pandas as pd\n",
    "import subprocess, sys\n",
    "import requests\n",
    "\n",
    "# modules for part 2\n",
    "from collections import namedtuple\n",
    "import colorsys\n",
    "import json\n",
    "from math import sqrt\n",
    "from os import listdir\n",
    "from os.path import isfile, join\n",
    "import random\n",
    "from PIL import Image\n",
    "from IPython.core.display import display, HTML\n",
    "from natsort import natsorted"
   ]
  },
  {
   "cell_type": "markdown",
   "metadata": {},
   "source": [
    "# 1. Fetching the data"
   ]
  },
  {
   "cell_type": "markdown",
   "metadata": {},
   "source": [
    "## 1.1 Get the HTML page"
   ]
  },
  {
   "cell_type": "code",
   "execution_count": null,
   "metadata": {},
   "outputs": [],
   "source": [
    "# the html file for the scope August 8th > October 21st was manually retrieved\n",
    "file_html = \"../../data/pitchfork_covers/soup.html\""
   ]
  },
  {
   "cell_type": "code",
   "execution_count": null,
   "metadata": {},
   "outputs": [],
   "source": [
    "# open the file using open() function \n",
    "file = open(file_html)  \n",
    "    \n",
    "# Reading from file  \n",
    "soup = BeautifulSoup(file.read(), \"html.parser\")\n",
    "file.close()"
   ]
  },
  {
   "cell_type": "markdown",
   "metadata": {},
   "source": [
    "## 1.2 Use beautiful soup to extract data above"
   ]
  },
  {
   "cell_type": "code",
   "execution_count": null,
   "metadata": {},
   "outputs": [],
   "source": [
    "# full review\n",
    "p_review_link = []\n",
    "p_pic_link = []\n",
    "p_artist = []\n",
    "p_album = []\n",
    "p_genre = []\n",
    "\n",
    "for a in soup.find_all(\"div\", class_=\"review\"):\n",
    "    \n",
    "    for r in a.find_all(\"ul\", class_=\"review__title-artist\"):\n",
    "        \n",
    "        # removing reviews with Various Artists\n",
    "        if (r.find(\"li\").string == \"Various Artists\"):\n",
    "            pass\n",
    "        \n",
    "        else:\n",
    "            for b in a.find_all(\"a\", class_=\"review__link\"):\n",
    "                p_review_link.append(b[\"href\"])\n",
    "\n",
    "            for c in a.find_all(\"img\"):\n",
    "                p_pic_link.append(c[\"src\"])\n",
    "\n",
    "            # only first artist\n",
    "            for d in a.find_all(\"ul\", class_=\"review__title-artist\"):\n",
    "                p_artist.append(d.find(\"li\").string)\n",
    "\n",
    "            for e in a.find_all(\"h2\", class_=\"review__title-album\"):\n",
    "                p_album.append(e.string)\n",
    "\n",
    "            # only first genre\n",
    "            for f in a.find_all(\"ul\", class_=\"review__genre-list\"):\n",
    "                p_genre.append(f.find(\"li\").string)"
   ]
  },
  {
   "cell_type": "code",
   "execution_count": null,
   "metadata": {},
   "outputs": [],
   "source": [
    "# page by page review score\n",
    "# for double albums, taking only the first album rating\n",
    "\n",
    "review_score = []\n",
    "i = -1\n",
    "\n",
    "for link in p_review_link:\n",
    "    i+=1\n",
    "    url = \"https://pitchfork.com\"+link\n",
    "    req = requests.get(url)\n",
    "    soup_ = BeautifulSoup(req.text, \"html.parser\")\n",
    "    for t in soup_.find(\"span\", class_=\"score\"):\n",
    "        review_score.append(t.string)"
   ]
  },
  {
   "cell_type": "markdown",
   "metadata": {},
   "source": [
    "## 1.3 Preparing the data into a dataframe"
   ]
  },
  {
   "cell_type": "code",
   "execution_count": null,
   "metadata": {},
   "outputs": [],
   "source": [
    "df = pd.DataFrame({\"link_review\": p_review_link, \"artist\": p_artist, \"album\": p_album, \"genre\": p_genre, \"link_pic\": p_pic_link, \"review_score\": review_score})\n",
    "df = df.reset_index().rename(columns={'index':'review_id'})"
   ]
  },
  {
   "cell_type": "markdown",
   "metadata": {},
   "source": [
    "## 1.4 Use beautiful soup to retrieve album covers & wget "
   ]
  },
  {
   "cell_type": "code",
   "execution_count": null,
   "metadata": {},
   "outputs": [],
   "source": [
    "pic_folder = \"../../data/pitchfork_covers/pics_0808_1021/\""
   ]
  },
  {
   "cell_type": "code",
   "execution_count": null,
   "metadata": {},
   "outputs": [],
   "source": [
    "# quick warning on wget:\n",
    "# ' should be replaced by \"'\" which is done here with this trick str('\"') + str(\"'\") + str('\"')\n",
    "# it does not catch '&' in urls so \"\" should be added - same goes for ()\n",
    "\n",
    "df.link_pic = df.link_pic.str.replace(\"'\",str('\"') + str(\"'\") + str('\"'))\n",
    "df.link_pic = df.link_pic.str.replace(\"&\",\"'&'\")\n",
    "df.link_pic = df.link_pic.str.replace(\"(\",\"'('\")\n",
    "df.link_pic = df.link_pic.str.replace(\")\",\"')'\")"
   ]
  },
  {
   "cell_type": "code",
   "execution_count": null,
   "metadata": {},
   "outputs": [],
   "source": [
    "for idx, link in enumerate(df.link_pic):\n",
    "    command = \"wget {0} -O {1}{2}.jpg\".format(link,pic_folder,idx)\n",
    "    p = subprocess.Popen(command, shell=True, stderr=subprocess.PIPE)"
   ]
  },
  {
   "cell_type": "markdown",
   "metadata": {},
   "source": [
    "# 2. Extracting main color from album cover"
   ]
  },
  {
   "cell_type": "markdown",
   "metadata": {},
   "source": [
    "## 2.1. Extract album covers main color\n",
    "\n",
    "Here, the algorithm used is a k-means clustering, with only one cluster.  \n",
    "A really nice article helped me through the process, credit to [Charles Leifer](http://charlesleifer.com/blog/using-python-and-k-means-to-find-the-dominant-colors-in-images/) for his help on this!  \n"
   ]
  },
  {
   "cell_type": "code",
   "execution_count": null,
   "metadata": {},
   "outputs": [],
   "source": [
    "Point = namedtuple('Point', ('coords', 'n', 'ct'))\n",
    "Cluster = namedtuple('Cluster', ('points', 'center', 'n'))"
   ]
  },
  {
   "cell_type": "code",
   "execution_count": null,
   "metadata": {},
   "outputs": [],
   "source": [
    "# two functions to do math computations used in later functions\n",
    "def calculate_center(points, n):\n",
    "    vals = [0.0 for i in range(n)]\n",
    "    plen = 0\n",
    "    for p in points:\n",
    "        plen += p.ct\n",
    "        for i in range(n):\n",
    "            vals[i] += (p.coords[i] * p.ct)\n",
    "    return Point([(v / plen) for v in vals], n, 1)\n",
    "\n",
    "def euclidean(p1, p2):\n",
    "    return sqrt(sum([\n",
    "        (p1.coords[i] - p2.coords[i]) ** 2 for i in range(p1.n)\n",
    "    ]))"
   ]
  },
  {
   "cell_type": "code",
   "execution_count": null,
   "metadata": {},
   "outputs": [],
   "source": [
    "# retrieve all points of the picture as a rgb array\n",
    "def get_points(img):\n",
    "    points = []\n",
    "    w, h = img.size\n",
    "    for count, color in img.getcolors(w * h):\n",
    "        points.append(Point(color, 3, count))\n",
    "    return points"
   ]
  },
  {
   "cell_type": "code",
   "execution_count": null,
   "metadata": {},
   "outputs": [],
   "source": [
    "def kmeans(points, k, min_diff):\n",
    "    clusters = [Cluster([p], p, p.n) for p in random.sample(points, k)]\n",
    "\n",
    "    while 1:\n",
    "        plists = [[] for i in range(k)]\n",
    "\n",
    "        for p in points:\n",
    "            smallest_distance = float('Inf')\n",
    "            for i in range(k):\n",
    "                distance = euclidean(p, clusters[i].center)\n",
    "                if distance < smallest_distance:\n",
    "                    smallest_distance = distance\n",
    "                    idx = i\n",
    "            plists[idx].append(p)\n",
    "\n",
    "        diff = 0\n",
    "        for i in range(k):\n",
    "            old = clusters[i]\n",
    "            center = calculate_center(plists[i], old.n)\n",
    "            new = Cluster(plists[i], center, old.n)\n",
    "            clusters[i] = new\n",
    "            diff = max(diff, euclidean(old.center, new.center))\n",
    "\n",
    "        if diff < min_diff:\n",
    "            break\n",
    "\n",
    "    return clusters"
   ]
  },
  {
   "cell_type": "code",
   "execution_count": null,
   "metadata": {},
   "outputs": [],
   "source": [
    "rtoh = lambda rgb: '#%s' % ''.join(('%02x' % p for p in rgb))"
   ]
  },
  {
   "cell_type": "code",
   "execution_count": null,
   "metadata": {},
   "outputs": [],
   "source": [
    "def colorz(filename, n=1):\n",
    "    img = Image.open(filename)\n",
    "    img.thumbnail((200, 200))\n",
    "    w, h = img.size\n",
    "    # calling the get_points function\n",
    "    points = get_points(img)\n",
    "    # calling the k_means function\n",
    "    clusters = kmeans(points, n, 1)\n",
    "    \n",
    "    rgbs = [map(int, c.center.coords) for c in clusters]\n",
    "    return map(rtoh, rgbs)"
   ]
  },
  {
   "cell_type": "code",
   "execution_count": null,
   "metadata": {},
   "outputs": [],
   "source": [
    "files = [f for f in listdir(pic_folder) if isfile(join(pic_folder, f))]\n",
    "# sorting files by alphabetical/numerical order\n",
    "files = natsorted(files)"
   ]
  },
  {
   "cell_type": "code",
   "execution_count": null,
   "metadata": {},
   "outputs": [],
   "source": [
    "def recursive(path):\n",
    "    color = \"\"\n",
    "    arrays = []\n",
    "    for idx,file in enumerate(files):\n",
    "        i = (idx *10)\n",
    "        array = list(colorz(path + file))\n",
    "        arrays.append(array)\n",
    "        color = color + \\\n",
    "                    \"\"\"\n",
    "                  <rect x=\"{1}\" y=\"0\" width=\"10\" height=\"10\" style=\"fill: {0};\" />\n",
    "                  \n",
    "                    \"\"\".format(array[0],i)\n",
    "        \n",
    "    opening = \"\"\" <svg width=\"{0}\" height=\"100\"> \"\"\".format((len(files)*10)+100)\n",
    "    closing = \"\"\" </svg> \"\"\"\n",
    "        \n",
    "    return arrays"
   ]
  },
  {
   "cell_type": "code",
   "execution_count": null,
   "metadata": {},
   "outputs": [],
   "source": [
    "# arr is a list of 3 hex codes, with the dominant color\n",
    "arr = recursive(pic_folder)"
   ]
  },
  {
   "cell_type": "code",
   "execution_count": null,
   "metadata": {},
   "outputs": [],
   "source": [
    "# from all the previous steps, list of pictures has been kept in order\n",
    "# we can safely add the column to the dataframe\n",
    "\n",
    "# adding hex code to dataframe\n",
    "df[\"hex\"] = np.array(arr)"
   ]
  },
  {
   "cell_type": "markdown",
   "metadata": {},
   "source": [
    "## 2.2. format array values in HSL into a new dataframe\n",
    "\n",
    "The datavisualization will rank array values by hue. To rank them this way, the hex values should be converted into HSL and from there, we will be able to rank album covers on the hue color wheel.  "
   ]
  },
  {
   "cell_type": "code",
   "execution_count": null,
   "metadata": {},
   "outputs": [],
   "source": [
    "# converting hex to rgb\n",
    "for i in range(len(arr)):\n",
    "    for j in range(0,1):\n",
    "        arr[i][j] = tuple(int(arr[i][j].lstrip('#')[k:k+2], 16) for k in (0, 2, 4))"
   ]
  },
  {
   "cell_type": "code",
   "execution_count": null,
   "metadata": {},
   "outputs": [],
   "source": [
    "# converting rgb to hsb/hsv\n",
    "for i in range(len(arr)):\n",
    "    for j in range(0,1):\n",
    "        arr[i][j] = list(colorsys.rgb_to_hsv(arr[i][j][0]/255.,arr[i][j][1]/255.,arr[i][j][2]/255.))"
   ]
  },
  {
   "cell_type": "code",
   "execution_count": null,
   "metadata": {},
   "outputs": [],
   "source": [
    "# converting to the proper number format: [0,360] - [0,100] - [0,100]\n",
    "for i in range(len(arr)):\n",
    "    arr[i][0][0] = int(arr[i][0][0] * 360)\n",
    "    arr[i][0][1] = int(arr[i][0][1] * 100)\n",
    "    arr[i][0][2] = int(arr[i][0][2] * 100)"
   ]
  },
  {
   "cell_type": "code",
   "execution_count": null,
   "metadata": {},
   "outputs": [],
   "source": [
    "# adding hsl code to dataframe\n",
    "df[\"hsl\"] = arr\n",
    "df[\"hsl\"] = df[\"hsl\"].apply(lambda x: x[0])\n",
    "\n",
    "df[\"hue\"] = df[\"hsl\"].apply(lambda x: x[0])\n",
    "df[\"saturation\"] = df[\"hsl\"].apply(lambda x: x[1])\n",
    "df[\"light\"] = df[\"hsl\"].apply(lambda x: x[2])\n",
    "\n",
    "# ranks\n",
    "df[\"hue_rank\"] = df[\"hue\"].rank(method=\"first\").astype(int) - 1\n",
    "df[\"score_rank\"] = df[\"review_score\"].rank(method=\"first\")"
   ]
  },
  {
   "cell_type": "code",
   "execution_count": null,
   "metadata": {},
   "outputs": [],
   "source": [
    "df.to_csv(\"../../data/pitchfork_covers/pics_0808_1021.csv\")"
   ]
  }
 ],
 "metadata": {
  "kernelspec": {
   "display_name": "Python 3",
   "language": "python",
   "name": "python3"
  },
  "language_info": {
   "codemirror_mode": {
    "name": "ipython",
    "version": 3
   },
   "file_extension": ".py",
   "mimetype": "text/x-python",
   "name": "python",
   "nbconvert_exporter": "python",
   "pygments_lexer": "ipython3",
   "version": "3.6.10"
  }
 },
 "nbformat": 4,
 "nbformat_minor": 2
}
